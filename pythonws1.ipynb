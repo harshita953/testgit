{
  "nbformat": 4,
  "nbformat_minor": 0,
  "metadata": {
    "colab": {
      "name": "pythonws1.ipynb",
      "provenance": [],
      "authorship_tag": "ABX9TyP8lbFcx89wAlgDmpPa4tG4",
      "include_colab_link": true
    },
    "kernelspec": {
      "name": "python3",
      "display_name": "Python 3"
    },
    "language_info": {
      "name": "python"
    }
  },
  "cells": [
    {
      "cell_type": "markdown",
      "metadata": {
        "id": "view-in-github",
        "colab_type": "text"
      },
      "source": [
        "<a href=\"https://colab.research.google.com/github/harshita953/testgit/blob/main/pythonws1.ipynb\" target=\"_parent\"><img src=\"https://colab.research.google.com/assets/colab-badge.svg\" alt=\"Open In Colab\"/></a>"
      ]
    },
    {
      "cell_type": "code",
      "metadata": {
        "colab": {
          "base_uri": "https://localhost:8080/"
        },
        "id": "d-3LGc5JcwHh",
        "outputId": "750fd75c-e02c-4381-dd68-c8ca477c948d"
      },
      "source": [
        "print(\"hello!\")"
      ],
      "execution_count": null,
      "outputs": [
        {
          "output_type": "stream",
          "text": [
            "hello!\n"
          ],
          "name": "stdout"
        }
      ]
    },
    {
      "cell_type": "code",
      "metadata": {
        "id": "_9iWDcZddTs2"
      },
      "source": [
        ""
      ],
      "execution_count": null,
      "outputs": []
    },
    {
      "cell_type": "markdown",
      "metadata": {
        "id": "GqKYVVohdU6b"
      },
      "source": [
        "#this is the demo code\n"
      ]
    },
    {
      "cell_type": "code",
      "metadata": {
        "colab": {
          "base_uri": "https://localhost:8080/"
        },
        "id": "Cik-g9mog4xh",
        "outputId": "696670a6-4ac3-4700-9972-25ad90c50ada"
      },
      "source": [
        "list1=['Jaipur','Bikaner','Udaipur','Kota']\n",
        "for item in list1:\n",
        "    print(len(item))\n"
      ],
      "execution_count": null,
      "outputs": [
        {
          "output_type": "stream",
          "text": [
            "6\n",
            "7\n",
            "7\n",
            "4\n"
          ],
          "name": "stdout"
        }
      ]
    },
    {
      "cell_type": "code",
      "metadata": {
        "colab": {
          "base_uri": "https://localhost:8080/"
        },
        "id": "DiV9YMethcuG",
        "outputId": "ff1738c8-7586-48ad-8f6e-46c81bc72a0e"
      },
      "source": [
        "[len(item) for item in list1] #list comprehension"
      ],
      "execution_count": null,
      "outputs": [
        {
          "output_type": "execute_result",
          "data": {
            "text/plain": [
              "[6, 7, 7, 4]"
            ]
          },
          "metadata": {
            "tags": []
          },
          "execution_count": 5
        }
      ]
    },
    {
      "cell_type": "code",
      "metadata": {
        "id": "BBn4pNSihvqj"
      },
      "source": [
        "def f1(str1):\n",
        "    return len(str1)"
      ],
      "execution_count": null,
      "outputs": []
    },
    {
      "cell_type": "code",
      "metadata": {
        "colab": {
          "base_uri": "https://localhost:8080/"
        },
        "id": "PsNqX9hNh6yD",
        "outputId": "d8b85165-b9a7-43a7-dfa4-2ae177e26b6c"
      },
      "source": [
        "f1('jaipur')"
      ],
      "execution_count": null,
      "outputs": [
        {
          "output_type": "execute_result",
          "data": {
            "text/plain": [
              "6"
            ]
          },
          "metadata": {
            "tags": []
          },
          "execution_count": 8
        }
      ]
    },
    {
      "cell_type": "code",
      "metadata": {
        "colab": {
          "base_uri": "https://localhost:8080/"
        },
        "id": "ELzyDZmsiCDW",
        "outputId": "e1576adc-1f45-4cc5-bb79-2874689c4f81"
      },
      "source": [
        "list(map(f1,list1)) #functional programming feature"
      ],
      "execution_count": null,
      "outputs": [
        {
          "output_type": "execute_result",
          "data": {
            "text/plain": [
              "[6, 7, 7, 4]"
            ]
          },
          "metadata": {
            "tags": []
          },
          "execution_count": 11
        }
      ]
    },
    {
      "cell_type": "markdown",
      "metadata": {
        "id": "A0JAUriTjbj8"
      },
      "source": [
        "#find out those cities with pur in subtext"
      ]
    },
    {
      "cell_type": "code",
      "metadata": {
        "colab": {
          "base_uri": "https://localhost:8080/"
        },
        "id": "AUxEsYQqjncS",
        "outputId": "9d613a9c-b36d-4952-9531-be2b44456a16"
      },
      "source": [
        "for item in list1:\n",
        "    if 'pur' in item:\n",
        "         print(item)"
      ],
      "execution_count": null,
      "outputs": [
        {
          "output_type": "stream",
          "text": [
            "Jaipur\n",
            "Udaipur\n"
          ],
          "name": "stdout"
        }
      ]
    },
    {
      "cell_type": "code",
      "metadata": {
        "id": "KPYzZ3aJkykU"
      },
      "source": [
        "def f2(str1):\n",
        "  if 'pur' in str1:\n",
        "      return True\n",
        "  else:\n",
        "      return False"
      ],
      "execution_count": null,
      "outputs": []
    },
    {
      "cell_type": "code",
      "metadata": {
        "colab": {
          "base_uri": "https://localhost:8080/"
        },
        "id": "b9PHWpCplKsT",
        "outputId": "34ab3f58-8896-4d82-836a-23940058b16a"
      },
      "source": [
        "f2('kota')"
      ],
      "execution_count": null,
      "outputs": [
        {
          "output_type": "execute_result",
          "data": {
            "text/plain": [
              "False"
            ]
          },
          "metadata": {
            "tags": []
          },
          "execution_count": 14
        }
      ]
    },
    {
      "cell_type": "code",
      "metadata": {
        "colab": {
          "base_uri": "https://localhost:8080/"
        },
        "id": "4abJMT1SlTX9",
        "outputId": "46ba6e7f-8864-409b-cde5-42f7a86a8c02"
      },
      "source": [
        "list(filter(f2,list1))"
      ],
      "execution_count": null,
      "outputs": [
        {
          "output_type": "execute_result",
          "data": {
            "text/plain": [
              "['Jaipur', 'Udaipur']"
            ]
          },
          "metadata": {
            "tags": []
          },
          "execution_count": 15
        }
      ]
    },
    {
      "cell_type": "code",
      "metadata": {
        "colab": {
          "base_uri": "https://localhost:8080/"
        },
        "id": "Znk7upV6lv8b",
        "outputId": "5aedf81f-9904-4799-d8cd-1e156018db63"
      },
      "source": [
        "list(map(f2,list1))"
      ],
      "execution_count": null,
      "outputs": [
        {
          "output_type": "execute_result",
          "data": {
            "text/plain": [
              "[True, False, True, False]"
            ]
          },
          "metadata": {
            "tags": []
          },
          "execution_count": 16
        }
      ]
    },
    {
      "cell_type": "code",
      "metadata": {
        "id": "YYAJxYZAmefK"
      },
      "source": [
        "list2=[1,2,3,4,5,6,7,8,9,10]"
      ],
      "execution_count": null,
      "outputs": []
    },
    {
      "cell_type": "code",
      "metadata": {
        "id": "2ZVtS_PnmkON"
      },
      "source": [
        "def f3(x,y):\n",
        "  return(x+y)"
      ],
      "execution_count": null,
      "outputs": []
    },
    {
      "cell_type": "code",
      "metadata": {
        "id": "z2QZHsTTm7sC"
      },
      "source": [
        "import functools"
      ],
      "execution_count": null,
      "outputs": []
    },
    {
      "cell_type": "code",
      "metadata": {
        "colab": {
          "base_uri": "https://localhost:8080/"
        },
        "id": "Qo0bVbXhnmon",
        "outputId": "53689ce4-bec1-4ef5-9c0b-59a86e59d967"
      },
      "source": [
        "dir(functools)"
      ],
      "execution_count": null,
      "outputs": [
        {
          "output_type": "execute_result",
          "data": {
            "text/plain": [
              "['RLock',\n",
              " 'WRAPPER_ASSIGNMENTS',\n",
              " 'WRAPPER_UPDATES',\n",
              " '_CacheInfo',\n",
              " '_HashedSeq',\n",
              " '__all__',\n",
              " '__builtins__',\n",
              " '__cached__',\n",
              " '__doc__',\n",
              " '__file__',\n",
              " '__loader__',\n",
              " '__name__',\n",
              " '__package__',\n",
              " '__spec__',\n",
              " '_c3_merge',\n",
              " '_c3_mro',\n",
              " '_compose_mro',\n",
              " '_convert',\n",
              " '_find_impl',\n",
              " '_ge_from_gt',\n",
              " '_ge_from_le',\n",
              " '_ge_from_lt',\n",
              " '_gt_from_ge',\n",
              " '_gt_from_le',\n",
              " '_gt_from_lt',\n",
              " '_le_from_ge',\n",
              " '_le_from_gt',\n",
              " '_le_from_lt',\n",
              " '_lru_cache_wrapper',\n",
              " '_lt_from_ge',\n",
              " '_lt_from_gt',\n",
              " '_lt_from_le',\n",
              " '_make_key',\n",
              " 'cmp_to_key',\n",
              " 'get_cache_token',\n",
              " 'lru_cache',\n",
              " 'namedtuple',\n",
              " 'partial',\n",
              " 'partialmethod',\n",
              " 'recursive_repr',\n",
              " 'reduce',\n",
              " 'singledispatch',\n",
              " 'total_ordering',\n",
              " 'update_wrapper',\n",
              " 'wraps']"
            ]
          },
          "metadata": {
            "tags": []
          },
          "execution_count": 22
        }
      ]
    },
    {
      "cell_type": "code",
      "metadata": {
        "colab": {
          "base_uri": "https://localhost:8080/"
        },
        "id": "jnRKfkUhoRxg",
        "outputId": "12126cb9-37c5-4d20-cfac-a9fa4669f4a9"
      },
      "source": [
        "functools.reduce(f3,[1,2,3,4,5,6,7,8,9,10])"
      ],
      "execution_count": null,
      "outputs": [
        {
          "output_type": "execute_result",
          "data": {
            "text/plain": [
              "55"
            ]
          },
          "metadata": {
            "tags": []
          },
          "execution_count": 24
        }
      ]
    },
    {
      "cell_type": "code",
      "metadata": {
        "id": "FuDwnf4dp6cO"
      },
      "source": [
        ""
      ],
      "execution_count": null,
      "outputs": []
    },
    {
      "cell_type": "markdown",
      "metadata": {
        "id": "lGxU-COIp5d6"
      },
      "source": [
        "# data analytics"
      ]
    },
    {
      "cell_type": "code",
      "metadata": {
        "id": "OyIh2LrWp_oW"
      },
      "source": [
        "import pandas"
      ],
      "execution_count": 2,
      "outputs": []
    },
    {
      "cell_type": "code",
      "metadata": {
        "colab": {
          "base_uri": "https://localhost:8080/",
          "height": 35
        },
        "id": "ahOLsxZnqFLO",
        "outputId": "bc5c62e3-ba4e-4fcb-ec8e-c00604c41b03"
      },
      "source": [
        "pandas.__version__"
      ],
      "execution_count": 3,
      "outputs": [
        {
          "output_type": "execute_result",
          "data": {
            "application/vnd.google.colaboratory.intrinsic+json": {
              "type": "string"
            },
            "text/plain": [
              "'1.1.5'"
            ]
          },
          "metadata": {
            "tags": []
          },
          "execution_count": 3
        }
      ]
    },
    {
      "cell_type": "code",
      "metadata": {
        "colab": {
          "base_uri": "https://localhost:8080/"
        },
        "id": "1CtAGOvVqbZt",
        "outputId": "f53545f7-af99-4987-8e9d-a8019785dfb9"
      },
      "source": [
        "dir(pandas)"
      ],
      "execution_count": 6,
      "outputs": [
        {
          "output_type": "execute_result",
          "data": {
            "text/plain": [
              "['BooleanDtype',\n",
              " 'Categorical',\n",
              " 'CategoricalDtype',\n",
              " 'CategoricalIndex',\n",
              " 'DataFrame',\n",
              " 'DateOffset',\n",
              " 'DatetimeIndex',\n",
              " 'DatetimeTZDtype',\n",
              " 'ExcelFile',\n",
              " 'ExcelWriter',\n",
              " 'Float64Index',\n",
              " 'Grouper',\n",
              " 'HDFStore',\n",
              " 'Index',\n",
              " 'IndexSlice',\n",
              " 'Int16Dtype',\n",
              " 'Int32Dtype',\n",
              " 'Int64Dtype',\n",
              " 'Int64Index',\n",
              " 'Int8Dtype',\n",
              " 'Interval',\n",
              " 'IntervalDtype',\n",
              " 'IntervalIndex',\n",
              " 'MultiIndex',\n",
              " 'NA',\n",
              " 'NaT',\n",
              " 'NamedAgg',\n",
              " 'Period',\n",
              " 'PeriodDtype',\n",
              " 'PeriodIndex',\n",
              " 'RangeIndex',\n",
              " 'Series',\n",
              " 'SparseDtype',\n",
              " 'StringDtype',\n",
              " 'Timedelta',\n",
              " 'TimedeltaIndex',\n",
              " 'Timestamp',\n",
              " 'UInt16Dtype',\n",
              " 'UInt32Dtype',\n",
              " 'UInt64Dtype',\n",
              " 'UInt64Index',\n",
              " 'UInt8Dtype',\n",
              " '__builtins__',\n",
              " '__cached__',\n",
              " '__doc__',\n",
              " '__docformat__',\n",
              " '__file__',\n",
              " '__getattr__',\n",
              " '__git_version__',\n",
              " '__loader__',\n",
              " '__name__',\n",
              " '__package__',\n",
              " '__path__',\n",
              " '__spec__',\n",
              " '__version__',\n",
              " '_config',\n",
              " '_hashtable',\n",
              " '_is_numpy_dev',\n",
              " '_lib',\n",
              " '_libs',\n",
              " '_np_version_under1p16',\n",
              " '_np_version_under1p17',\n",
              " '_np_version_under1p18',\n",
              " '_testing',\n",
              " '_tslib',\n",
              " '_typing',\n",
              " '_version',\n",
              " 'api',\n",
              " 'array',\n",
              " 'arrays',\n",
              " 'bdate_range',\n",
              " 'compat',\n",
              " 'concat',\n",
              " 'core',\n",
              " 'crosstab',\n",
              " 'cut',\n",
              " 'date_range',\n",
              " 'describe_option',\n",
              " 'errors',\n",
              " 'eval',\n",
              " 'factorize',\n",
              " 'get_dummies',\n",
              " 'get_option',\n",
              " 'infer_freq',\n",
              " 'interval_range',\n",
              " 'io',\n",
              " 'isna',\n",
              " 'isnull',\n",
              " 'json_normalize',\n",
              " 'lreshape',\n",
              " 'melt',\n",
              " 'merge',\n",
              " 'merge_asof',\n",
              " 'merge_ordered',\n",
              " 'notna',\n",
              " 'notnull',\n",
              " 'offsets',\n",
              " 'option_context',\n",
              " 'options',\n",
              " 'pandas',\n",
              " 'period_range',\n",
              " 'pivot',\n",
              " 'pivot_table',\n",
              " 'plotting',\n",
              " 'qcut',\n",
              " 'read_clipboard',\n",
              " 'read_csv',\n",
              " 'read_excel',\n",
              " 'read_feather',\n",
              " 'read_fwf',\n",
              " 'read_gbq',\n",
              " 'read_hdf',\n",
              " 'read_html',\n",
              " 'read_json',\n",
              " 'read_orc',\n",
              " 'read_parquet',\n",
              " 'read_pickle',\n",
              " 'read_sas',\n",
              " 'read_spss',\n",
              " 'read_sql',\n",
              " 'read_sql_query',\n",
              " 'read_sql_table',\n",
              " 'read_stata',\n",
              " 'read_table',\n",
              " 'reset_option',\n",
              " 'set_eng_float_format',\n",
              " 'set_option',\n",
              " 'show_versions',\n",
              " 'test',\n",
              " 'testing',\n",
              " 'timedelta_range',\n",
              " 'to_datetime',\n",
              " 'to_numeric',\n",
              " 'to_pickle',\n",
              " 'to_timedelta',\n",
              " 'tseries',\n",
              " 'unique',\n",
              " 'util',\n",
              " 'value_counts',\n",
              " 'wide_to_long']"
            ]
          },
          "metadata": {
            "tags": []
          },
          "execution_count": 6
        }
      ]
    },
    {
      "cell_type": "code",
      "metadata": {
        "id": "tsS-OvDmqlnz"
      },
      "source": [
        "help(pandas.read_csv)"
      ],
      "execution_count": null,
      "outputs": []
    },
    {
      "cell_type": "code",
      "metadata": {
        "id": "EiiDaygFYbXu"
      },
      "source": [
        "df= pandas.read_csv(\"https://raw.githubusercontent.com/neuerung/demo/master/Salaries.csv\")"
      ],
      "execution_count": 8,
      "outputs": []
    },
    {
      "cell_type": "code",
      "metadata": {
        "colab": {
          "base_uri": "https://localhost:8080/"
        },
        "id": "NAuuWMv5Y4md",
        "outputId": "26738770-4402-4a39-8557-439086e2aca3"
      },
      "source": [
        "print(df)"
      ],
      "execution_count": 9,
      "outputs": [
        {
          "output_type": "stream",
          "text": [
            "         rank discipline   phd  service  gender    salary\n",
            "0        Prof          B  56.0       49    Male  186960.0\n",
            "1        Prof          A  12.0        6    Male   93000.0\n",
            "2        Prof          A  23.0       20    Male  110515.0\n",
            "3        Prof          A  40.0       31    Male  131205.0\n",
            "4        Prof          B  20.0       18    Male  104800.0\n",
            "..        ...        ...   ...      ...     ...       ...\n",
            "73       Prof          B  18.0       10  Female  105450.0\n",
            "74  AssocProf          B  19.0        6  Female  104542.0\n",
            "75       Prof          B  17.0       17  Female  124312.0\n",
            "76       Prof          A  28.0       14  Female  109954.0\n",
            "77       Prof          A  23.0       15  Female  109646.0\n",
            "\n",
            "[78 rows x 6 columns]\n"
          ],
          "name": "stdout"
        }
      ]
    },
    {
      "cell_type": "code",
      "metadata": {
        "colab": {
          "base_uri": "https://localhost:8080/"
        },
        "id": "RJP0g5yXZLC-",
        "outputId": "6db4df12-eab6-4e93-ba1a-691133549fd1"
      },
      "source": [
        "type(df)"
      ],
      "execution_count": 10,
      "outputs": [
        {
          "output_type": "execute_result",
          "data": {
            "text/plain": [
              "pandas.core.frame.DataFrame"
            ]
          },
          "metadata": {
            "tags": []
          },
          "execution_count": 10
        }
      ]
    },
    {
      "cell_type": "code",
      "metadata": {
        "colab": {
          "base_uri": "https://localhost:8080/"
        },
        "id": "ucgSFW3tZTPH",
        "outputId": "22ec50e8-b49e-4d39-fde0-c10730442d42"
      },
      "source": [
        "df.shape"
      ],
      "execution_count": 11,
      "outputs": [
        {
          "output_type": "execute_result",
          "data": {
            "text/plain": [
              "(78, 6)"
            ]
          },
          "metadata": {
            "tags": []
          },
          "execution_count": 11
        }
      ]
    },
    {
      "cell_type": "code",
      "metadata": {
        "colab": {
          "base_uri": "https://localhost:8080/"
        },
        "id": "tk56oNZ5ZfC2",
        "outputId": "df0f5e9d-fff2-4658-a7ea-a8cbb02618f9"
      },
      "source": [
        "df.columns.tolist()"
      ],
      "execution_count": 12,
      "outputs": [
        {
          "output_type": "execute_result",
          "data": {
            "text/plain": [
              "['rank', 'discipline', 'phd', 'service', 'gender', 'salary']"
            ]
          },
          "metadata": {
            "tags": []
          },
          "execution_count": 12
        }
      ]
    },
    {
      "cell_type": "code",
      "metadata": {
        "colab": {
          "base_uri": "https://localhost:8080/"
        },
        "id": "Jy-qbiu6ZsbL",
        "outputId": "04c65661-4d47-4496-81f7-d8a8494587e4"
      },
      "source": [
        "print(df.head())"
      ],
      "execution_count": 13,
      "outputs": [
        {
          "output_type": "stream",
          "text": [
            "   rank discipline   phd  service gender    salary\n",
            "0  Prof          B  56.0       49   Male  186960.0\n",
            "1  Prof          A  12.0        6   Male   93000.0\n",
            "2  Prof          A  23.0       20   Male  110515.0\n",
            "3  Prof          A  40.0       31   Male  131205.0\n",
            "4  Prof          B  20.0       18   Male  104800.0\n"
          ],
          "name": "stdout"
        }
      ]
    },
    {
      "cell_type": "code",
      "metadata": {
        "colab": {
          "base_uri": "https://localhost:8080/"
        },
        "id": "x8x9izGPZ7O2",
        "outputId": "a0eaef20-0a80-4410-efcb-24345801b9b6"
      },
      "source": [
        "print(df.tail())"
      ],
      "execution_count": 14,
      "outputs": [
        {
          "output_type": "stream",
          "text": [
            "         rank discipline   phd  service  gender    salary\n",
            "73       Prof          B  18.0       10  Female  105450.0\n",
            "74  AssocProf          B  19.0        6  Female  104542.0\n",
            "75       Prof          B  17.0       17  Female  124312.0\n",
            "76       Prof          A  28.0       14  Female  109954.0\n",
            "77       Prof          A  23.0       15  Female  109646.0\n"
          ],
          "name": "stdout"
        }
      ]
    },
    {
      "cell_type": "code",
      "metadata": {
        "colab": {
          "base_uri": "https://localhost:8080/"
        },
        "id": "h5wuyUSnaCuk",
        "outputId": "fc40203e-7964-463d-a311-01f961651d45"
      },
      "source": [
        "print(df.sample(5))"
      ],
      "execution_count": 17,
      "outputs": [
        {
          "output_type": "stream",
          "text": [
            "         rank discipline   phd  service  gender    salary\n",
            "34  AssocProf          B   NaN        8    Male  119800.0\n",
            "56  AssocProf          A  10.0        8  Female   77500.0\n",
            "18       Prof          A  19.0        7    Male  107300.0\n",
            "76       Prof          A  28.0       14  Female  109954.0\n",
            "27       Prof          A  45.0       43    Male  155865.0\n"
          ],
          "name": "stdout"
        }
      ]
    },
    {
      "cell_type": "code",
      "metadata": {
        "colab": {
          "base_uri": "https://localhost:8080/"
        },
        "id": "b7arx1h9aItL",
        "outputId": "144d8bbf-853d-47fd-a338-3222423a11ee"
      },
      "source": [
        "df['salary'].mean()"
      ],
      "execution_count": 18,
      "outputs": [
        {
          "output_type": "execute_result",
          "data": {
            "text/plain": [
              "108003.3552631579"
            ]
          },
          "metadata": {
            "tags": []
          },
          "execution_count": 18
        }
      ]
    },
    {
      "cell_type": "code",
      "metadata": {
        "colab": {
          "base_uri": "https://localhost:8080/"
        },
        "id": "yYMCE3O2asfY",
        "outputId": "80d8ee1f-dab9-4db0-fb6a-74f41372b13a"
      },
      "source": [
        "df['salary']>100000"
      ],
      "execution_count": 19,
      "outputs": [
        {
          "output_type": "execute_result",
          "data": {
            "text/plain": [
              "0      True\n",
              "1     False\n",
              "2      True\n",
              "3      True\n",
              "4      True\n",
              "      ...  \n",
              "73     True\n",
              "74     True\n",
              "75     True\n",
              "76     True\n",
              "77     True\n",
              "Name: salary, Length: 78, dtype: bool"
            ]
          },
          "metadata": {
            "tags": []
          },
          "execution_count": 19
        }
      ]
    },
    {
      "cell_type": "code",
      "metadata": {
        "colab": {
          "base_uri": "https://localhost:8080/",
          "height": 1000
        },
        "id": "yXhBFtIobF2p",
        "outputId": "8e3ded1d-09f2-4109-b89c-c7c19e3d5596"
      },
      "source": [
        "df[df['salary']>100000]"
      ],
      "execution_count": 21,
      "outputs": [
        {
          "output_type": "execute_result",
          "data": {
            "text/html": [
              "<div>\n",
              "<style scoped>\n",
              "    .dataframe tbody tr th:only-of-type {\n",
              "        vertical-align: middle;\n",
              "    }\n",
              "\n",
              "    .dataframe tbody tr th {\n",
              "        vertical-align: top;\n",
              "    }\n",
              "\n",
              "    .dataframe thead th {\n",
              "        text-align: right;\n",
              "    }\n",
              "</style>\n",
              "<table border=\"1\" class=\"dataframe\">\n",
              "  <thead>\n",
              "    <tr style=\"text-align: right;\">\n",
              "      <th></th>\n",
              "      <th>rank</th>\n",
              "      <th>discipline</th>\n",
              "      <th>phd</th>\n",
              "      <th>service</th>\n",
              "      <th>gender</th>\n",
              "      <th>salary</th>\n",
              "    </tr>\n",
              "  </thead>\n",
              "  <tbody>\n",
              "    <tr>\n",
              "      <th>0</th>\n",
              "      <td>Prof</td>\n",
              "      <td>B</td>\n",
              "      <td>56.0</td>\n",
              "      <td>49</td>\n",
              "      <td>Male</td>\n",
              "      <td>186960.0</td>\n",
              "    </tr>\n",
              "    <tr>\n",
              "      <th>2</th>\n",
              "      <td>Prof</td>\n",
              "      <td>A</td>\n",
              "      <td>23.0</td>\n",
              "      <td>20</td>\n",
              "      <td>Male</td>\n",
              "      <td>110515.0</td>\n",
              "    </tr>\n",
              "    <tr>\n",
              "      <th>3</th>\n",
              "      <td>Prof</td>\n",
              "      <td>A</td>\n",
              "      <td>40.0</td>\n",
              "      <td>31</td>\n",
              "      <td>Male</td>\n",
              "      <td>131205.0</td>\n",
              "    </tr>\n",
              "    <tr>\n",
              "      <th>4</th>\n",
              "      <td>Prof</td>\n",
              "      <td>B</td>\n",
              "      <td>20.0</td>\n",
              "      <td>18</td>\n",
              "      <td>Male</td>\n",
              "      <td>104800.0</td>\n",
              "    </tr>\n",
              "    <tr>\n",
              "      <th>5</th>\n",
              "      <td>Prof</td>\n",
              "      <td>A</td>\n",
              "      <td>20.0</td>\n",
              "      <td>20</td>\n",
              "      <td>Male</td>\n",
              "      <td>122400.0</td>\n",
              "    </tr>\n",
              "    <tr>\n",
              "      <th>10</th>\n",
              "      <td>Prof</td>\n",
              "      <td>B</td>\n",
              "      <td>39.0</td>\n",
              "      <td>33</td>\n",
              "      <td>Male</td>\n",
              "      <td>128250.0</td>\n",
              "    </tr>\n",
              "    <tr>\n",
              "      <th>11</th>\n",
              "      <td>Prof</td>\n",
              "      <td>B</td>\n",
              "      <td>23.0</td>\n",
              "      <td>23</td>\n",
              "      <td>Male</td>\n",
              "      <td>134778.0</td>\n",
              "    </tr>\n",
              "    <tr>\n",
              "      <th>13</th>\n",
              "      <td>Prof</td>\n",
              "      <td>B</td>\n",
              "      <td>NaN</td>\n",
              "      <td>33</td>\n",
              "      <td>Male</td>\n",
              "      <td>162200.0</td>\n",
              "    </tr>\n",
              "    <tr>\n",
              "      <th>14</th>\n",
              "      <td>Prof</td>\n",
              "      <td>B</td>\n",
              "      <td>25.0</td>\n",
              "      <td>19</td>\n",
              "      <td>Male</td>\n",
              "      <td>153750.0</td>\n",
              "    </tr>\n",
              "    <tr>\n",
              "      <th>15</th>\n",
              "      <td>Prof</td>\n",
              "      <td>B</td>\n",
              "      <td>17.0</td>\n",
              "      <td>3</td>\n",
              "      <td>Male</td>\n",
              "      <td>150480.0</td>\n",
              "    </tr>\n",
              "    <tr>\n",
              "      <th>18</th>\n",
              "      <td>Prof</td>\n",
              "      <td>A</td>\n",
              "      <td>19.0</td>\n",
              "      <td>7</td>\n",
              "      <td>Male</td>\n",
              "      <td>107300.0</td>\n",
              "    </tr>\n",
              "    <tr>\n",
              "      <th>19</th>\n",
              "      <td>Prof</td>\n",
              "      <td>A</td>\n",
              "      <td>29.0</td>\n",
              "      <td>27</td>\n",
              "      <td>Male</td>\n",
              "      <td>150500.0</td>\n",
              "    </tr>\n",
              "    <tr>\n",
              "      <th>21</th>\n",
              "      <td>Prof</td>\n",
              "      <td>A</td>\n",
              "      <td>33.0</td>\n",
              "      <td>30</td>\n",
              "      <td>Male</td>\n",
              "      <td>103106.0</td>\n",
              "    </tr>\n",
              "    <tr>\n",
              "      <th>26</th>\n",
              "      <td>Prof</td>\n",
              "      <td>A</td>\n",
              "      <td>38.0</td>\n",
              "      <td>19</td>\n",
              "      <td>Male</td>\n",
              "      <td>148750.0</td>\n",
              "    </tr>\n",
              "    <tr>\n",
              "      <th>27</th>\n",
              "      <td>Prof</td>\n",
              "      <td>A</td>\n",
              "      <td>45.0</td>\n",
              "      <td>43</td>\n",
              "      <td>Male</td>\n",
              "      <td>155865.0</td>\n",
              "    </tr>\n",
              "    <tr>\n",
              "      <th>29</th>\n",
              "      <td>Prof</td>\n",
              "      <td>B</td>\n",
              "      <td>21.0</td>\n",
              "      <td>20</td>\n",
              "      <td>Male</td>\n",
              "      <td>123683.0</td>\n",
              "    </tr>\n",
              "    <tr>\n",
              "      <th>30</th>\n",
              "      <td>AssocProf</td>\n",
              "      <td>B</td>\n",
              "      <td>9.0</td>\n",
              "      <td>7</td>\n",
              "      <td>Male</td>\n",
              "      <td>107008.0</td>\n",
              "    </tr>\n",
              "    <tr>\n",
              "      <th>31</th>\n",
              "      <td>Prof</td>\n",
              "      <td>B</td>\n",
              "      <td>22.0</td>\n",
              "      <td>21</td>\n",
              "      <td>Male</td>\n",
              "      <td>155750.0</td>\n",
              "    </tr>\n",
              "    <tr>\n",
              "      <th>32</th>\n",
              "      <td>Prof</td>\n",
              "      <td>A</td>\n",
              "      <td>27.0</td>\n",
              "      <td>19</td>\n",
              "      <td>Male</td>\n",
              "      <td>103275.0</td>\n",
              "    </tr>\n",
              "    <tr>\n",
              "      <th>33</th>\n",
              "      <td>Prof</td>\n",
              "      <td>B</td>\n",
              "      <td>18.0</td>\n",
              "      <td>18</td>\n",
              "      <td>Male</td>\n",
              "      <td>120000.0</td>\n",
              "    </tr>\n",
              "    <tr>\n",
              "      <th>34</th>\n",
              "      <td>AssocProf</td>\n",
              "      <td>B</td>\n",
              "      <td>NaN</td>\n",
              "      <td>8</td>\n",
              "      <td>Male</td>\n",
              "      <td>119800.0</td>\n",
              "    </tr>\n",
              "    <tr>\n",
              "      <th>35</th>\n",
              "      <td>Prof</td>\n",
              "      <td>B</td>\n",
              "      <td>28.0</td>\n",
              "      <td>23</td>\n",
              "      <td>Male</td>\n",
              "      <td>126933.0</td>\n",
              "    </tr>\n",
              "    <tr>\n",
              "      <th>36</th>\n",
              "      <td>Prof</td>\n",
              "      <td>B</td>\n",
              "      <td>45.0</td>\n",
              "      <td>45</td>\n",
              "      <td>Male</td>\n",
              "      <td>146856.0</td>\n",
              "    </tr>\n",
              "    <tr>\n",
              "      <th>37</th>\n",
              "      <td>Prof</td>\n",
              "      <td>A</td>\n",
              "      <td>20.0</td>\n",
              "      <td>8</td>\n",
              "      <td>Male</td>\n",
              "      <td>102000.0</td>\n",
              "    </tr>\n",
              "    <tr>\n",
              "      <th>39</th>\n",
              "      <td>Prof</td>\n",
              "      <td>B</td>\n",
              "      <td>18.0</td>\n",
              "      <td>18</td>\n",
              "      <td>Female</td>\n",
              "      <td>129000.0</td>\n",
              "    </tr>\n",
              "    <tr>\n",
              "      <th>40</th>\n",
              "      <td>Prof</td>\n",
              "      <td>A</td>\n",
              "      <td>39.0</td>\n",
              "      <td>36</td>\n",
              "      <td>Female</td>\n",
              "      <td>137000.0</td>\n",
              "    </tr>\n",
              "    <tr>\n",
              "      <th>44</th>\n",
              "      <td>Prof</td>\n",
              "      <td>B</td>\n",
              "      <td>23.0</td>\n",
              "      <td>19</td>\n",
              "      <td>Female</td>\n",
              "      <td>151768.0</td>\n",
              "    </tr>\n",
              "    <tr>\n",
              "      <th>45</th>\n",
              "      <td>Prof</td>\n",
              "      <td>B</td>\n",
              "      <td>25.0</td>\n",
              "      <td>25</td>\n",
              "      <td>Female</td>\n",
              "      <td>140096.0</td>\n",
              "    </tr>\n",
              "    <tr>\n",
              "      <th>47</th>\n",
              "      <td>AssocProf</td>\n",
              "      <td>B</td>\n",
              "      <td>11.0</td>\n",
              "      <td>11</td>\n",
              "      <td>Female</td>\n",
              "      <td>103613.0</td>\n",
              "    </tr>\n",
              "    <tr>\n",
              "      <th>48</th>\n",
              "      <td>Prof</td>\n",
              "      <td>B</td>\n",
              "      <td>17.0</td>\n",
              "      <td>17</td>\n",
              "      <td>Female</td>\n",
              "      <td>111512.0</td>\n",
              "    </tr>\n",
              "    <tr>\n",
              "      <th>49</th>\n",
              "      <td>Prof</td>\n",
              "      <td>B</td>\n",
              "      <td>17.0</td>\n",
              "      <td>18</td>\n",
              "      <td>Female</td>\n",
              "      <td>122960.0</td>\n",
              "    </tr>\n",
              "    <tr>\n",
              "      <th>51</th>\n",
              "      <td>Prof</td>\n",
              "      <td>B</td>\n",
              "      <td>20.0</td>\n",
              "      <td>14</td>\n",
              "      <td>Female</td>\n",
              "      <td>127512.0</td>\n",
              "    </tr>\n",
              "    <tr>\n",
              "      <th>52</th>\n",
              "      <td>Prof</td>\n",
              "      <td>A</td>\n",
              "      <td>12.0</td>\n",
              "      <td>0</td>\n",
              "      <td>Female</td>\n",
              "      <td>105000.0</td>\n",
              "    </tr>\n",
              "    <tr>\n",
              "      <th>58</th>\n",
              "      <td>Prof</td>\n",
              "      <td>B</td>\n",
              "      <td>36.0</td>\n",
              "      <td>26</td>\n",
              "      <td>Female</td>\n",
              "      <td>144651.0</td>\n",
              "    </tr>\n",
              "    <tr>\n",
              "      <th>59</th>\n",
              "      <td>AssocProf</td>\n",
              "      <td>B</td>\n",
              "      <td>12.0</td>\n",
              "      <td>10</td>\n",
              "      <td>Female</td>\n",
              "      <td>103994.0</td>\n",
              "    </tr>\n",
              "    <tr>\n",
              "      <th>61</th>\n",
              "      <td>AssocProf</td>\n",
              "      <td>B</td>\n",
              "      <td>13.0</td>\n",
              "      <td>10</td>\n",
              "      <td>Female</td>\n",
              "      <td>103750.0</td>\n",
              "    </tr>\n",
              "    <tr>\n",
              "      <th>62</th>\n",
              "      <td>AssocProf</td>\n",
              "      <td>B</td>\n",
              "      <td>14.0</td>\n",
              "      <td>7</td>\n",
              "      <td>Female</td>\n",
              "      <td>109650.0</td>\n",
              "    </tr>\n",
              "    <tr>\n",
              "      <th>65</th>\n",
              "      <td>Prof</td>\n",
              "      <td>A</td>\n",
              "      <td>36.0</td>\n",
              "      <td>19</td>\n",
              "      <td>Female</td>\n",
              "      <td>117555.0</td>\n",
              "    </tr>\n",
              "    <tr>\n",
              "      <th>69</th>\n",
              "      <td>Prof</td>\n",
              "      <td>A</td>\n",
              "      <td>28.0</td>\n",
              "      <td>7</td>\n",
              "      <td>Female</td>\n",
              "      <td>116450.0</td>\n",
              "    </tr>\n",
              "    <tr>\n",
              "      <th>72</th>\n",
              "      <td>Prof</td>\n",
              "      <td>B</td>\n",
              "      <td>24.0</td>\n",
              "      <td>15</td>\n",
              "      <td>Female</td>\n",
              "      <td>161101.0</td>\n",
              "    </tr>\n",
              "    <tr>\n",
              "      <th>73</th>\n",
              "      <td>Prof</td>\n",
              "      <td>B</td>\n",
              "      <td>18.0</td>\n",
              "      <td>10</td>\n",
              "      <td>Female</td>\n",
              "      <td>105450.0</td>\n",
              "    </tr>\n",
              "    <tr>\n",
              "      <th>74</th>\n",
              "      <td>AssocProf</td>\n",
              "      <td>B</td>\n",
              "      <td>19.0</td>\n",
              "      <td>6</td>\n",
              "      <td>Female</td>\n",
              "      <td>104542.0</td>\n",
              "    </tr>\n",
              "    <tr>\n",
              "      <th>75</th>\n",
              "      <td>Prof</td>\n",
              "      <td>B</td>\n",
              "      <td>17.0</td>\n",
              "      <td>17</td>\n",
              "      <td>Female</td>\n",
              "      <td>124312.0</td>\n",
              "    </tr>\n",
              "    <tr>\n",
              "      <th>76</th>\n",
              "      <td>Prof</td>\n",
              "      <td>A</td>\n",
              "      <td>28.0</td>\n",
              "      <td>14</td>\n",
              "      <td>Female</td>\n",
              "      <td>109954.0</td>\n",
              "    </tr>\n",
              "    <tr>\n",
              "      <th>77</th>\n",
              "      <td>Prof</td>\n",
              "      <td>A</td>\n",
              "      <td>23.0</td>\n",
              "      <td>15</td>\n",
              "      <td>Female</td>\n",
              "      <td>109646.0</td>\n",
              "    </tr>\n",
              "  </tbody>\n",
              "</table>\n",
              "</div>"
            ],
            "text/plain": [
              "         rank discipline   phd  service  gender    salary\n",
              "0        Prof          B  56.0       49    Male  186960.0\n",
              "2        Prof          A  23.0       20    Male  110515.0\n",
              "3        Prof          A  40.0       31    Male  131205.0\n",
              "4        Prof          B  20.0       18    Male  104800.0\n",
              "5        Prof          A  20.0       20    Male  122400.0\n",
              "10       Prof          B  39.0       33    Male  128250.0\n",
              "11       Prof          B  23.0       23    Male  134778.0\n",
              "13       Prof          B   NaN       33    Male  162200.0\n",
              "14       Prof          B  25.0       19    Male  153750.0\n",
              "15       Prof          B  17.0        3    Male  150480.0\n",
              "18       Prof          A  19.0        7    Male  107300.0\n",
              "19       Prof          A  29.0       27    Male  150500.0\n",
              "21       Prof          A  33.0       30    Male  103106.0\n",
              "26       Prof          A  38.0       19    Male  148750.0\n",
              "27       Prof          A  45.0       43    Male  155865.0\n",
              "29       Prof          B  21.0       20    Male  123683.0\n",
              "30  AssocProf          B   9.0        7    Male  107008.0\n",
              "31       Prof          B  22.0       21    Male  155750.0\n",
              "32       Prof          A  27.0       19    Male  103275.0\n",
              "33       Prof          B  18.0       18    Male  120000.0\n",
              "34  AssocProf          B   NaN        8    Male  119800.0\n",
              "35       Prof          B  28.0       23    Male  126933.0\n",
              "36       Prof          B  45.0       45    Male  146856.0\n",
              "37       Prof          A  20.0        8    Male  102000.0\n",
              "39       Prof          B  18.0       18  Female  129000.0\n",
              "40       Prof          A  39.0       36  Female  137000.0\n",
              "44       Prof          B  23.0       19  Female  151768.0\n",
              "45       Prof          B  25.0       25  Female  140096.0\n",
              "47  AssocProf          B  11.0       11  Female  103613.0\n",
              "48       Prof          B  17.0       17  Female  111512.0\n",
              "49       Prof          B  17.0       18  Female  122960.0\n",
              "51       Prof          B  20.0       14  Female  127512.0\n",
              "52       Prof          A  12.0        0  Female  105000.0\n",
              "58       Prof          B  36.0       26  Female  144651.0\n",
              "59  AssocProf          B  12.0       10  Female  103994.0\n",
              "61  AssocProf          B  13.0       10  Female  103750.0\n",
              "62  AssocProf          B  14.0        7  Female  109650.0\n",
              "65       Prof          A  36.0       19  Female  117555.0\n",
              "69       Prof          A  28.0        7  Female  116450.0\n",
              "72       Prof          B  24.0       15  Female  161101.0\n",
              "73       Prof          B  18.0       10  Female  105450.0\n",
              "74  AssocProf          B  19.0        6  Female  104542.0\n",
              "75       Prof          B  17.0       17  Female  124312.0\n",
              "76       Prof          A  28.0       14  Female  109954.0\n",
              "77       Prof          A  23.0       15  Female  109646.0"
            ]
          },
          "metadata": {
            "tags": []
          },
          "execution_count": 21
        }
      ]
    },
    {
      "cell_type": "code",
      "metadata": {
        "colab": {
          "base_uri": "https://localhost:8080/",
          "height": 696
        },
        "id": "QbxPgxHkbc7b",
        "outputId": "f7b49519-cd48-4096-eb31-984e51228604"
      },
      "source": [
        "df[(df['salary']>100000) & (df['gender']== 'Female') ]"
      ],
      "execution_count": 22,
      "outputs": [
        {
          "output_type": "execute_result",
          "data": {
            "text/html": [
              "<div>\n",
              "<style scoped>\n",
              "    .dataframe tbody tr th:only-of-type {\n",
              "        vertical-align: middle;\n",
              "    }\n",
              "\n",
              "    .dataframe tbody tr th {\n",
              "        vertical-align: top;\n",
              "    }\n",
              "\n",
              "    .dataframe thead th {\n",
              "        text-align: right;\n",
              "    }\n",
              "</style>\n",
              "<table border=\"1\" class=\"dataframe\">\n",
              "  <thead>\n",
              "    <tr style=\"text-align: right;\">\n",
              "      <th></th>\n",
              "      <th>rank</th>\n",
              "      <th>discipline</th>\n",
              "      <th>phd</th>\n",
              "      <th>service</th>\n",
              "      <th>gender</th>\n",
              "      <th>salary</th>\n",
              "    </tr>\n",
              "  </thead>\n",
              "  <tbody>\n",
              "    <tr>\n",
              "      <th>39</th>\n",
              "      <td>Prof</td>\n",
              "      <td>B</td>\n",
              "      <td>18.0</td>\n",
              "      <td>18</td>\n",
              "      <td>Female</td>\n",
              "      <td>129000.0</td>\n",
              "    </tr>\n",
              "    <tr>\n",
              "      <th>40</th>\n",
              "      <td>Prof</td>\n",
              "      <td>A</td>\n",
              "      <td>39.0</td>\n",
              "      <td>36</td>\n",
              "      <td>Female</td>\n",
              "      <td>137000.0</td>\n",
              "    </tr>\n",
              "    <tr>\n",
              "      <th>44</th>\n",
              "      <td>Prof</td>\n",
              "      <td>B</td>\n",
              "      <td>23.0</td>\n",
              "      <td>19</td>\n",
              "      <td>Female</td>\n",
              "      <td>151768.0</td>\n",
              "    </tr>\n",
              "    <tr>\n",
              "      <th>45</th>\n",
              "      <td>Prof</td>\n",
              "      <td>B</td>\n",
              "      <td>25.0</td>\n",
              "      <td>25</td>\n",
              "      <td>Female</td>\n",
              "      <td>140096.0</td>\n",
              "    </tr>\n",
              "    <tr>\n",
              "      <th>47</th>\n",
              "      <td>AssocProf</td>\n",
              "      <td>B</td>\n",
              "      <td>11.0</td>\n",
              "      <td>11</td>\n",
              "      <td>Female</td>\n",
              "      <td>103613.0</td>\n",
              "    </tr>\n",
              "    <tr>\n",
              "      <th>48</th>\n",
              "      <td>Prof</td>\n",
              "      <td>B</td>\n",
              "      <td>17.0</td>\n",
              "      <td>17</td>\n",
              "      <td>Female</td>\n",
              "      <td>111512.0</td>\n",
              "    </tr>\n",
              "    <tr>\n",
              "      <th>49</th>\n",
              "      <td>Prof</td>\n",
              "      <td>B</td>\n",
              "      <td>17.0</td>\n",
              "      <td>18</td>\n",
              "      <td>Female</td>\n",
              "      <td>122960.0</td>\n",
              "    </tr>\n",
              "    <tr>\n",
              "      <th>51</th>\n",
              "      <td>Prof</td>\n",
              "      <td>B</td>\n",
              "      <td>20.0</td>\n",
              "      <td>14</td>\n",
              "      <td>Female</td>\n",
              "      <td>127512.0</td>\n",
              "    </tr>\n",
              "    <tr>\n",
              "      <th>52</th>\n",
              "      <td>Prof</td>\n",
              "      <td>A</td>\n",
              "      <td>12.0</td>\n",
              "      <td>0</td>\n",
              "      <td>Female</td>\n",
              "      <td>105000.0</td>\n",
              "    </tr>\n",
              "    <tr>\n",
              "      <th>58</th>\n",
              "      <td>Prof</td>\n",
              "      <td>B</td>\n",
              "      <td>36.0</td>\n",
              "      <td>26</td>\n",
              "      <td>Female</td>\n",
              "      <td>144651.0</td>\n",
              "    </tr>\n",
              "    <tr>\n",
              "      <th>59</th>\n",
              "      <td>AssocProf</td>\n",
              "      <td>B</td>\n",
              "      <td>12.0</td>\n",
              "      <td>10</td>\n",
              "      <td>Female</td>\n",
              "      <td>103994.0</td>\n",
              "    </tr>\n",
              "    <tr>\n",
              "      <th>61</th>\n",
              "      <td>AssocProf</td>\n",
              "      <td>B</td>\n",
              "      <td>13.0</td>\n",
              "      <td>10</td>\n",
              "      <td>Female</td>\n",
              "      <td>103750.0</td>\n",
              "    </tr>\n",
              "    <tr>\n",
              "      <th>62</th>\n",
              "      <td>AssocProf</td>\n",
              "      <td>B</td>\n",
              "      <td>14.0</td>\n",
              "      <td>7</td>\n",
              "      <td>Female</td>\n",
              "      <td>109650.0</td>\n",
              "    </tr>\n",
              "    <tr>\n",
              "      <th>65</th>\n",
              "      <td>Prof</td>\n",
              "      <td>A</td>\n",
              "      <td>36.0</td>\n",
              "      <td>19</td>\n",
              "      <td>Female</td>\n",
              "      <td>117555.0</td>\n",
              "    </tr>\n",
              "    <tr>\n",
              "      <th>69</th>\n",
              "      <td>Prof</td>\n",
              "      <td>A</td>\n",
              "      <td>28.0</td>\n",
              "      <td>7</td>\n",
              "      <td>Female</td>\n",
              "      <td>116450.0</td>\n",
              "    </tr>\n",
              "    <tr>\n",
              "      <th>72</th>\n",
              "      <td>Prof</td>\n",
              "      <td>B</td>\n",
              "      <td>24.0</td>\n",
              "      <td>15</td>\n",
              "      <td>Female</td>\n",
              "      <td>161101.0</td>\n",
              "    </tr>\n",
              "    <tr>\n",
              "      <th>73</th>\n",
              "      <td>Prof</td>\n",
              "      <td>B</td>\n",
              "      <td>18.0</td>\n",
              "      <td>10</td>\n",
              "      <td>Female</td>\n",
              "      <td>105450.0</td>\n",
              "    </tr>\n",
              "    <tr>\n",
              "      <th>74</th>\n",
              "      <td>AssocProf</td>\n",
              "      <td>B</td>\n",
              "      <td>19.0</td>\n",
              "      <td>6</td>\n",
              "      <td>Female</td>\n",
              "      <td>104542.0</td>\n",
              "    </tr>\n",
              "    <tr>\n",
              "      <th>75</th>\n",
              "      <td>Prof</td>\n",
              "      <td>B</td>\n",
              "      <td>17.0</td>\n",
              "      <td>17</td>\n",
              "      <td>Female</td>\n",
              "      <td>124312.0</td>\n",
              "    </tr>\n",
              "    <tr>\n",
              "      <th>76</th>\n",
              "      <td>Prof</td>\n",
              "      <td>A</td>\n",
              "      <td>28.0</td>\n",
              "      <td>14</td>\n",
              "      <td>Female</td>\n",
              "      <td>109954.0</td>\n",
              "    </tr>\n",
              "    <tr>\n",
              "      <th>77</th>\n",
              "      <td>Prof</td>\n",
              "      <td>A</td>\n",
              "      <td>23.0</td>\n",
              "      <td>15</td>\n",
              "      <td>Female</td>\n",
              "      <td>109646.0</td>\n",
              "    </tr>\n",
              "  </tbody>\n",
              "</table>\n",
              "</div>"
            ],
            "text/plain": [
              "         rank discipline   phd  service  gender    salary\n",
              "39       Prof          B  18.0       18  Female  129000.0\n",
              "40       Prof          A  39.0       36  Female  137000.0\n",
              "44       Prof          B  23.0       19  Female  151768.0\n",
              "45       Prof          B  25.0       25  Female  140096.0\n",
              "47  AssocProf          B  11.0       11  Female  103613.0\n",
              "48       Prof          B  17.0       17  Female  111512.0\n",
              "49       Prof          B  17.0       18  Female  122960.0\n",
              "51       Prof          B  20.0       14  Female  127512.0\n",
              "52       Prof          A  12.0        0  Female  105000.0\n",
              "58       Prof          B  36.0       26  Female  144651.0\n",
              "59  AssocProf          B  12.0       10  Female  103994.0\n",
              "61  AssocProf          B  13.0       10  Female  103750.0\n",
              "62  AssocProf          B  14.0        7  Female  109650.0\n",
              "65       Prof          A  36.0       19  Female  117555.0\n",
              "69       Prof          A  28.0        7  Female  116450.0\n",
              "72       Prof          B  24.0       15  Female  161101.0\n",
              "73       Prof          B  18.0       10  Female  105450.0\n",
              "74  AssocProf          B  19.0        6  Female  104542.0\n",
              "75       Prof          B  17.0       17  Female  124312.0\n",
              "76       Prof          A  28.0       14  Female  109954.0\n",
              "77       Prof          A  23.0       15  Female  109646.0"
            ]
          },
          "metadata": {
            "tags": []
          },
          "execution_count": 22
        }
      ]
    },
    {
      "cell_type": "code",
      "metadata": {
        "colab": {
          "base_uri": "https://localhost:8080/"
        },
        "id": "9pvyQ-XPb_vp",
        "outputId": "63244bb1-560e-4130-ab4c-7766e5b6b6c7"
      },
      "source": [
        "df['rank'].value_counts()"
      ],
      "execution_count": 23,
      "outputs": [
        {
          "output_type": "execute_result",
          "data": {
            "text/plain": [
              "Prof         46\n",
              "AsstProf     19\n",
              "AssocProf    13\n",
              "Name: rank, dtype: int64"
            ]
          },
          "metadata": {
            "tags": []
          },
          "execution_count": 23
        }
      ]
    },
    {
      "cell_type": "code",
      "metadata": {
        "id": "dfp0ddCecSuw"
      },
      "source": [
        ""
      ],
      "execution_count": null,
      "outputs": []
    }
  ]
}